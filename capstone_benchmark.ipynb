{
 "cells": [
  {
   "cell_type": "markdown",
   "metadata": {},
   "source": [
    "# Capstone Project: Benchmarks\n",
    "## Machine Learning Engineer Nanodegree\n",
    "### Manceñido Agustín, 2019"
   ]
  },
  {
   "cell_type": "markdown",
   "metadata": {},
   "source": [
    "<img src=\"img/bkgr_benchmark.jpg\" alt=\"Backgroud\" style=\"width: 100%; height: 400px;\"/>"
   ]
  },
  {
   "cell_type": "markdown",
   "metadata": {},
   "source": [
    "**Benchmarking** is the process of comparing the result to an existing method or running a very simple machine learning model to get baseline in performance. A baseline in performance gives an idea of how well all other models will actually perform on the problem.\n",
    "\n",
    "For this project, two benchmark models were selected. First a [Persistence model](https://machinelearningmastery.com/persistence-time-series-forecasting-with-python/) will be used as a really simple and fast benchmark model. Then, a second and more advance [Xgboost model](https://xgboost.readthedocs.io/en/latest/) will be used to get a better idea of the performance using all the features available."
   ]
  },
  {
   "cell_type": "markdown",
   "metadata": {},
   "source": [
    ">**Notes:** \n",
    "* For the complete final model and results, please refer to the [Capstone exploration](https://machinelearningmastery.com/persistence-time-series-forecasting-with-python/) file.\n",
    "* For the complete analysis of the dataset and the feature engineering that is used in this document, please refer to the [Capstone exploration](https://machinelearningmastery.com/persistence-time-series-forecasting-with-python/) file."
   ]
  },
  {
   "cell_type": "markdown",
   "metadata": {},
   "source": [
    "### Contents\n",
    "\n",
    "* [Step 0](#step0): Import libraries & Load dataset\n",
    "* [Step 1](#step1): Benchmark I - Persistence model\n",
    "* [Step 2](#step2): Feature Engineering\n",
    "* [Step 3](#step3): Split data\n",
    "* [Step 4](#step4): Benchmark II - Xgboost model\n",
    "* [Step 5](#step5): Results"
   ]
  },
  {
   "cell_type": "markdown",
   "metadata": {},
   "source": [
    "---\n",
    "<a id='step0'></a>\n",
    "## Step 0: Import libraries & Load dataset"
   ]
  },
  {
   "cell_type": "code",
   "execution_count": 1,
   "metadata": {},
   "outputs": [
    {
     "name": "stderr",
     "output_type": "stream",
     "text": [
      "[nltk_data] Downloading package stopwords to\n",
      "[nltk_data]     /home/nitsuga/nltk_data...\n",
      "[nltk_data]   Package stopwords is already up-to-date!\n"
     ]
    }
   ],
   "source": [
    "### Import libraries\n",
    "\n",
    "## General\n",
    "import pandas as pd\n",
    "import numpy as np\n",
    "from time import time\n",
    "\n",
    "## Scikit-learn\n",
    "from sklearn.model_selection import train_test_split\n",
    "from sklearn.preprocessing import LabelEncoder\n",
    "from sklearn.metrics import mean_squared_log_error\n",
    "from sklearn.feature_extraction.text import TfidfVectorizer\n",
    "from sklearn.decomposition import TruncatedSVD\n",
    "\n",
    "## Natural Language Toolkit\n",
    "import nltk\n",
    "from nltk.corpus import stopwords\n",
    "nltk.download('stopwords')\n",
    "\n",
    "## Benchmark II - Xgboost model\n",
    "import xgboost as xgb\n",
    "\n",
    "## Plot\n",
    "from matplotlib import pyplot as plt"
   ]
  },
  {
   "cell_type": "code",
   "execution_count": 2,
   "metadata": {},
   "outputs": [
    {
     "name": "stdout",
     "output_type": "stream",
     "text": [
      "Dataset has 795295 samples with 8 features each.\n"
     ]
    },
    {
     "data": {
      "text/html": [
       "<div>\n",
       "<style scoped>\n",
       "    .dataframe tbody tr th:only-of-type {\n",
       "        vertical-align: middle;\n",
       "    }\n",
       "\n",
       "    .dataframe tbody tr th {\n",
       "        vertical-align: top;\n",
       "    }\n",
       "\n",
       "    .dataframe thead th {\n",
       "        text-align: right;\n",
       "    }\n",
       "</style>\n",
       "<table border=\"1\" class=\"dataframe\">\n",
       "  <thead>\n",
       "    <tr style=\"text-align: right;\">\n",
       "      <th></th>\n",
       "      <th>title</th>\n",
       "      <th>sellerid</th>\n",
       "      <th>state</th>\n",
       "      <th>city</th>\n",
       "      <th>pos</th>\n",
       "      <th>sqty</th>\n",
       "      <th>price</th>\n",
       "      <th>created_at</th>\n",
       "    </tr>\n",
       "  </thead>\n",
       "  <tbody>\n",
       "    <tr>\n",
       "      <th>0</th>\n",
       "      <td>Oximetro De Pulso Saturometro Digital Con Curv...</td>\n",
       "      <td>99179853</td>\n",
       "      <td>Capital Federal</td>\n",
       "      <td>CABA</td>\n",
       "      <td>NaN</td>\n",
       "      <td>1</td>\n",
       "      <td>799.99</td>\n",
       "      <td>2017-03-17 16:07:13</td>\n",
       "    </tr>\n",
       "    <tr>\n",
       "      <th>1</th>\n",
       "      <td>Oximetro De Pulso Saturometro Digital</td>\n",
       "      <td>127566027</td>\n",
       "      <td>Buenos Aires</td>\n",
       "      <td>Villa Bosch</td>\n",
       "      <td>NaN</td>\n",
       "      <td>1</td>\n",
       "      <td>600.00</td>\n",
       "      <td>2017-03-17 16:07:13</td>\n",
       "    </tr>\n",
       "    <tr>\n",
       "      <th>2</th>\n",
       "      <td>Oximetro De Pulso Saturometro Digital Con Curv...</td>\n",
       "      <td>99179853</td>\n",
       "      <td>Capital Federal</td>\n",
       "      <td>CABA</td>\n",
       "      <td>NaN</td>\n",
       "      <td>1</td>\n",
       "      <td>799.99</td>\n",
       "      <td>2017-03-17 16:52:10</td>\n",
       "    </tr>\n",
       "  </tbody>\n",
       "</table>\n",
       "</div>"
      ],
      "text/plain": [
       "                                               title   sellerid  \\\n",
       "0  Oximetro De Pulso Saturometro Digital Con Curv...   99179853   \n",
       "1              Oximetro De Pulso Saturometro Digital  127566027   \n",
       "2  Oximetro De Pulso Saturometro Digital Con Curv...   99179853   \n",
       "\n",
       "             state         city  pos  sqty   price           created_at  \n",
       "0  Capital Federal         CABA  NaN     1  799.99  2017-03-17 16:07:13  \n",
       "1     Buenos Aires  Villa Bosch  NaN     1  600.00  2017-03-17 16:07:13  \n",
       "2  Capital Federal         CABA  NaN     1  799.99  2017-03-17 16:52:10  "
      ]
     },
     "metadata": {},
     "output_type": "display_data"
    }
   ],
   "source": [
    "# Load dataset\n",
    "try:\n",
    "    data = pd.read_csv(\"database.csv\")\n",
    "    data.drop(['meliid'], axis = 1, inplace = True)\n",
    "    print(\"Dataset has {} samples with {} features each.\".format(*data.shape))\n",
    "except:\n",
    "    print(\"Dataset could not be loaded. Is the dataset missing?\")\n",
    "\n",
    "display(data.head(n = 3))"
   ]
  },
  {
   "cell_type": "markdown",
   "metadata": {},
   "source": [
    "---\n",
    "<a id='step1'></a>\n",
    "## Step 1: Benchmark I - Persistence model"
   ]
  },
  {
   "cell_type": "markdown",
   "metadata": {},
   "source": [
    "The most common baseline method for supervised machine learning is the Zero Rule algorithm. This algorithm predicts the majority class in the case of classification, or the average outcome in the case of regression. This could be used for time series, but does not respect the serial correlation structure in time series datasets.\n",
    "\n",
    "The equivalent technique for use with time series dataset is the **persistence algorithm**. The persistence algorithm uses the value at the previous time step (t-1) to predict the expected outcome at the next time step (t+1)."
   ]
  },
  {
   "cell_type": "code",
   "execution_count": 3,
   "metadata": {},
   "outputs": [
    {
     "data": {
      "text/html": [
       "<div>\n",
       "<style scoped>\n",
       "    .dataframe tbody tr th:only-of-type {\n",
       "        vertical-align: middle;\n",
       "    }\n",
       "\n",
       "    .dataframe tbody tr th {\n",
       "        vertical-align: top;\n",
       "    }\n",
       "\n",
       "    .dataframe thead th {\n",
       "        text-align: right;\n",
       "    }\n",
       "</style>\n",
       "<table border=\"1\" class=\"dataframe\">\n",
       "  <thead>\n",
       "    <tr style=\"text-align: right;\">\n",
       "      <th></th>\n",
       "      <th>price</th>\n",
       "      <th>created_at</th>\n",
       "    </tr>\n",
       "  </thead>\n",
       "  <tbody>\n",
       "    <tr>\n",
       "      <th>0</th>\n",
       "      <td>799.99</td>\n",
       "      <td>2017-03-17 16:07:13</td>\n",
       "    </tr>\n",
       "    <tr>\n",
       "      <th>1</th>\n",
       "      <td>600.00</td>\n",
       "      <td>2017-03-17 16:07:13</td>\n",
       "    </tr>\n",
       "    <tr>\n",
       "      <th>2</th>\n",
       "      <td>799.99</td>\n",
       "      <td>2017-03-17 16:52:10</td>\n",
       "    </tr>\n",
       "  </tbody>\n",
       "</table>\n",
       "</div>"
      ],
      "text/plain": [
       "    price           created_at\n",
       "0  799.99  2017-03-17 16:07:13\n",
       "1  600.00  2017-03-17 16:07:13\n",
       "2  799.99  2017-03-17 16:52:10"
      ]
     },
     "metadata": {},
     "output_type": "display_data"
    }
   ],
   "source": [
    "# Benchmark I dataset\n",
    "bench_1_data = data.copy()\n",
    "bench_1_data.drop(['title','sellerid','state','city','pos','sqty'], axis = 1, inplace = True)\n",
    "bench_1_data.sort_values(by='created_at')\n",
    "display(bench_1_data.head(n = 3))"
   ]
  },
  {
   "cell_type": "code",
   "execution_count": 4,
   "metadata": {},
   "outputs": [
    {
     "name": "stdout",
     "output_type": "stream",
     "text": [
      "      t-1     t+1\n",
      "0     NaN  799.99\n",
      "1  799.99  600.00\n",
      "2  600.00  799.99\n",
      "3  799.99  549.00\n",
      "4  549.00  599.00\n"
     ]
    }
   ],
   "source": [
    "# Create lagged dataset\n",
    "values = pd.DataFrame(bench_1_data.price.values)\n",
    "bench_1_data = pd.concat([values.shift(1), values], axis=1)\n",
    "bench_1_data.columns = ['t-1', 't+1']\n",
    "print(bench_1_data.head(5))\n",
    "\n",
    "del values"
   ]
  },
  {
   "cell_type": "code",
   "execution_count": 5,
   "metadata": {},
   "outputs": [],
   "source": [
    "# split into train and test sets\n",
    "X = bench_1_data.values\n",
    "train_size = int(len(X) * 0.66)\n",
    "train, test = X[1:train_size], X[train_size:]\n",
    "X_train, y_train = train[:,0], train[:,1]\n",
    "X_test, y_test = test[:,0], test[:,1]\n",
    "\n",
    "del bench_1_data, X, train_size, train, test"
   ]
  },
  {
   "cell_type": "code",
   "execution_count": 6,
   "metadata": {},
   "outputs": [],
   "source": [
    "# persistence model\n",
    "def model_persistence(x):\n",
    "    return x"
   ]
  },
  {
   "cell_type": "code",
   "execution_count": 7,
   "metadata": {},
   "outputs": [],
   "source": [
    "# walk-forward validation\n",
    "preds = list()\n",
    "for x in X_test:\n",
    "    pred = model_persistence(x)\n",
    "    preds.append(pred)"
   ]
  },
  {
   "cell_type": "code",
   "execution_count": 8,
   "metadata": {},
   "outputs": [
    {
     "name": "stdout",
     "output_type": "stream",
     "text": [
      "Benchmark I - Persistence Model\n",
      "Test MSLE: 2.220\n"
     ]
    }
   ],
   "source": [
    "# Test score: Benchmark I - Persistence model\n",
    "test_score = mean_squared_log_error(y_test, preds)\n",
    "print('Benchmark I - Persistence Model')\n",
    "print('Test MSLE: %.3f' % test_score)"
   ]
  },
  {
   "cell_type": "markdown",
   "metadata": {},
   "source": [
    "---\n",
    "<a id='step2'></a>\n",
    "## Step 2: Feature Engineering"
   ]
  },
  {
   "cell_type": "markdown",
   "metadata": {},
   "source": [
    "**Feature engineering** is the process of using domain knowledge of the data to create features that make machine learning algorithms work.This process increases the predictive power of machine learning algorithms by creating features from raw data that help facilitate the machine learning process.\n",
    "\n",
    "Using the results from the **dataset exploration** the features will be modify in a similar way than the final model in order to test the Xgboost model with similar information."
   ]
  },
  {
   "cell_type": "code",
   "execution_count": 9,
   "metadata": {},
   "outputs": [],
   "source": [
    "# date time features\n",
    "data['created_at'] = pd.to_datetime(data['created_at'])\n",
    "data['weekday'] = data.created_at.dt.weekday\n",
    "data['week'] = data.created_at.dt.week \n",
    "data['hour'] = data.created_at.dt.hour \n",
    "\n",
    "# title word length\n",
    "data['title'] = data['title'].fillna(\" \")\n",
    "data['title_len'] = data['title'].apply(lambda x : len(x.split()))\n",
    "\n",
    "# state/city\n",
    "data['state_city'] = data.state +\" / \"+ data.city"
   ]
  },
  {
   "cell_type": "code",
   "execution_count": 10,
   "metadata": {},
   "outputs": [],
   "source": [
    "# LabelEncoder for state_city feature\n",
    "le = LabelEncoder()\n",
    "le.fit(data.state_city)\n",
    "data['state_city'] = le.transform(data.state_city)\n",
    "del le"
   ]
  },
  {
   "cell_type": "code",
   "execution_count": 11,
   "metadata": {},
   "outputs": [],
   "source": [
    "# Frequency-inverse document frequency (TF-IDF) Vectorizer for title feature\n",
    "tfidf_vec = TfidfVectorizer(ngram_range=(1,2), stop_words=set(stopwords.words('spanish')))\n",
    "data_tfidf = tfidf_vec.fit_transform(data['title'].values.tolist())\n",
    "n_comp = 10\n",
    "\n",
    "svd_obj = TruncatedSVD(n_components=n_comp, algorithm='arpack')\n",
    "svd_obj.fit(data_tfidf.asfptype())\n",
    "\n",
    "data_svd = pd.DataFrame(svd_obj.transform(data_tfidf.asfptype()))\n",
    "data_svd.columns = ['svd_title_tfidf_'+str(i) for i in range(n_comp)]\n",
    "data = pd.concat([data, data_svd], axis=1)\n",
    "\n",
    "del tfidf_vec, data_tfidf, n_comp, svd_obj, data_svd"
   ]
  },
  {
   "cell_type": "code",
   "execution_count": 12,
   "metadata": {},
   "outputs": [],
   "source": [
    "# drop available data, irrelevant or highly correlated features\n",
    "# ['sellerid','title','state','city','created_at']\n",
    "dropable = ['sellerid','title','state','city','created_at']\n",
    "not_available = ['pos']\n",
    "data.drop(not_available+dropable, axis = 1, inplace = True)\n",
    "del dropable, not_available"
   ]
  },
  {
   "cell_type": "code",
   "execution_count": 13,
   "metadata": {},
   "outputs": [],
   "source": [
    "# Log target feature\n",
    "data.price = np.log(data.price.values)"
   ]
  },
  {
   "cell_type": "markdown",
   "metadata": {},
   "source": [
    "---\n",
    "<a id='step3'></a>\n",
    "## Step 3: Split data"
   ]
  },
  {
   "cell_type": "code",
   "execution_count": 14,
   "metadata": {},
   "outputs": [],
   "source": [
    "# split data\n",
    "target = data['price']\n",
    "features = data.drop('price', axis = 1)\n",
    "f_train, X_test, t_train, y_test = train_test_split(features, target, random_state=1)\n",
    "X_train, X_valid, y_train, y_valid = train_test_split(f_train, t_train, test_size=0.2, random_state=1987)"
   ]
  },
  {
   "cell_type": "code",
   "execution_count": 15,
   "metadata": {},
   "outputs": [
    {
     "data": {
      "text/html": [
       "<div>\n",
       "<style scoped>\n",
       "    .dataframe tbody tr th:only-of-type {\n",
       "        vertical-align: middle;\n",
       "    }\n",
       "\n",
       "    .dataframe tbody tr th {\n",
       "        vertical-align: top;\n",
       "    }\n",
       "\n",
       "    .dataframe thead th {\n",
       "        text-align: right;\n",
       "    }\n",
       "</style>\n",
       "<table border=\"1\" class=\"dataframe\">\n",
       "  <thead>\n",
       "    <tr style=\"text-align: right;\">\n",
       "      <th></th>\n",
       "      <th>sqty</th>\n",
       "      <th>weekday</th>\n",
       "      <th>week</th>\n",
       "      <th>hour</th>\n",
       "      <th>title_len</th>\n",
       "      <th>state_city</th>\n",
       "      <th>svd_title_tfidf_0</th>\n",
       "      <th>svd_title_tfidf_1</th>\n",
       "      <th>svd_title_tfidf_2</th>\n",
       "      <th>svd_title_tfidf_3</th>\n",
       "      <th>svd_title_tfidf_4</th>\n",
       "      <th>svd_title_tfidf_5</th>\n",
       "      <th>svd_title_tfidf_6</th>\n",
       "      <th>svd_title_tfidf_7</th>\n",
       "      <th>svd_title_tfidf_8</th>\n",
       "      <th>svd_title_tfidf_9</th>\n",
       "    </tr>\n",
       "  </thead>\n",
       "  <tbody>\n",
       "    <tr>\n",
       "      <th>724175</th>\n",
       "      <td>1</td>\n",
       "      <td>4</td>\n",
       "      <td>10</td>\n",
       "      <td>19</td>\n",
       "      <td>12</td>\n",
       "      <td>1553</td>\n",
       "      <td>0.107443</td>\n",
       "      <td>-0.109448</td>\n",
       "      <td>-0.009225</td>\n",
       "      <td>-0.007943</td>\n",
       "      <td>0.056319</td>\n",
       "      <td>-0.043693</td>\n",
       "      <td>-0.037359</td>\n",
       "      <td>0.056473</td>\n",
       "      <td>-0.014742</td>\n",
       "      <td>0.008583</td>\n",
       "    </tr>\n",
       "    <tr>\n",
       "      <th>342614</th>\n",
       "      <td>1</td>\n",
       "      <td>0</td>\n",
       "      <td>37</td>\n",
       "      <td>17</td>\n",
       "      <td>11</td>\n",
       "      <td>1361</td>\n",
       "      <td>0.264651</td>\n",
       "      <td>-0.280809</td>\n",
       "      <td>-0.016945</td>\n",
       "      <td>-0.007794</td>\n",
       "      <td>-0.141684</td>\n",
       "      <td>-0.048031</td>\n",
       "      <td>-0.012951</td>\n",
       "      <td>-0.004371</td>\n",
       "      <td>-0.079468</td>\n",
       "      <td>0.035270</td>\n",
       "    </tr>\n",
       "    <tr>\n",
       "      <th>523561</th>\n",
       "      <td>1</td>\n",
       "      <td>2</td>\n",
       "      <td>49</td>\n",
       "      <td>21</td>\n",
       "      <td>7</td>\n",
       "      <td>1361</td>\n",
       "      <td>0.000416</td>\n",
       "      <td>-0.000353</td>\n",
       "      <td>0.000583</td>\n",
       "      <td>0.000029</td>\n",
       "      <td>0.000464</td>\n",
       "      <td>-0.000879</td>\n",
       "      <td>0.010671</td>\n",
       "      <td>0.001175</td>\n",
       "      <td>0.001405</td>\n",
       "      <td>0.018801</td>\n",
       "    </tr>\n",
       "  </tbody>\n",
       "</table>\n",
       "</div>"
      ],
      "text/plain": [
       "        sqty  weekday  week  hour  title_len  state_city  svd_title_tfidf_0  \\\n",
       "724175     1        4    10    19         12        1553           0.107443   \n",
       "342614     1        0    37    17         11        1361           0.264651   \n",
       "523561     1        2    49    21          7        1361           0.000416   \n",
       "\n",
       "        svd_title_tfidf_1  svd_title_tfidf_2  svd_title_tfidf_3  \\\n",
       "724175          -0.109448          -0.009225          -0.007943   \n",
       "342614          -0.280809          -0.016945          -0.007794   \n",
       "523561          -0.000353           0.000583           0.000029   \n",
       "\n",
       "        svd_title_tfidf_4  svd_title_tfidf_5  svd_title_tfidf_6  \\\n",
       "724175           0.056319          -0.043693          -0.037359   \n",
       "342614          -0.141684          -0.048031          -0.012951   \n",
       "523561           0.000464          -0.000879           0.010671   \n",
       "\n",
       "        svd_title_tfidf_7  svd_title_tfidf_8  svd_title_tfidf_9  \n",
       "724175           0.056473          -0.014742           0.008583  \n",
       "342614          -0.004371          -0.079468           0.035270  \n",
       "523561           0.001175           0.001405           0.018801  "
      ]
     },
     "metadata": {},
     "output_type": "display_data"
    }
   ],
   "source": [
    "display(X_train.head(n = 3))"
   ]
  },
  {
   "cell_type": "markdown",
   "metadata": {},
   "source": [
    "---\n",
    "<a id='step4'></a>\n",
    "## Step 4: Benchmark II - Xgboost model"
   ]
  },
  {
   "cell_type": "code",
   "execution_count": 16,
   "metadata": {},
   "outputs": [
    {
     "name": "stdout",
     "output_type": "stream",
     "text": [
      "[0]\ttrain-rmse:6.17139\tvalid-rmse:6.16884\n",
      "Multiple eval metrics have been passed: 'valid-rmse' will be used for early stopping.\n",
      "\n",
      "Will train until valid-rmse hasn't improved in 20 rounds.\n",
      "[20]\ttrain-rmse:2.31102\tvalid-rmse:2.31378\n",
      "[40]\ttrain-rmse:0.97858\tvalid-rmse:0.994688\n",
      "[60]\ttrain-rmse:0.565433\tvalid-rmse:0.602063\n",
      "[79]\ttrain-rmse:0.449838\tvalid-rmse:0.502407\n",
      "Modeling RMSLE 0.50241\n"
     ]
    }
   ],
   "source": [
    "# Prepare date for Xgboost\n",
    "data_train = xgb.DMatrix(X_train, label=y_train)\n",
    "data_valid = xgb.DMatrix(X_valid, label=y_valid)\n",
    "data_test = xgb.DMatrix(X_test)\n",
    "# Create Xgboost model\n",
    "watchlist = [(data_train, 'train'), (data_valid, 'valid')]\n",
    "xgb_par = {'min_child_weight': 20, 'eta': 0.05, 'colsample_bytree': 0.5, 'max_depth': 15,\n",
    "            'subsample': 0.9, 'lambda': 2.0, 'nthread': -1, 'booster' : 'gbtree', 'silent': 1,\n",
    "            'eval_metric': 'rmse', 'objective': 'reg:linear'}\n",
    "\n",
    "model = xgb.train(xgb_par, data_train, 80, watchlist, early_stopping_rounds=20, maximize=False, verbose_eval=20)\n",
    "\n",
    "print('Modeling RMSLE %.5f' % model.best_score)"
   ]
  },
  {
   "cell_type": "code",
   "execution_count": 17,
   "metadata": {},
   "outputs": [
    {
     "data": {
      "image/png": "[encoded data removed]",
      "text/plain": [
       "<Figure size 864x432 with 1 Axes>"
      ]
     },
     "metadata": {
      "needs_background": "light"
     },
     "output_type": "display_data"
    }
   ],
   "source": [
    "# Plot the important variables\n",
    "fig, ax = plt.subplots(figsize=(12,6))\n",
    "xgb.plot_importance(model, max_num_features=20, height=0.8, ax=ax)\n",
    "plt.title(\"Feature importance - top 20\")\n",
    "\n",
    "plt.show()"
   ]
  },
  {
   "cell_type": "code",
   "execution_count": 18,
   "metadata": {},
   "outputs": [],
   "source": [
    "# Shape normalizaition: y_test, preds\n",
    "preds = model.predict(data_test)\n",
    "preds = np.asarray(preds, dtype=np.float32)\n",
    "y_test = np.asarray(y_test, dtype=np.float32)\n",
    "y_test = y_test.reshape(preds.shape)"
   ]
  },
  {
   "cell_type": "code",
   "execution_count": 19,
   "metadata": {},
   "outputs": [],
   "source": [
    "# Convert back to real values\n",
    "y_test = np.exp(y_test)\n",
    "preds = np.exp(preds)"
   ]
  },
  {
   "cell_type": "code",
   "execution_count": 20,
   "metadata": {},
   "outputs": [
    {
     "data": {
      "text/html": [
       "<div>\n",
       "<style scoped>\n",
       "    .dataframe tbody tr th:only-of-type {\n",
       "        vertical-align: middle;\n",
       "    }\n",
       "\n",
       "    .dataframe tbody tr th {\n",
       "        vertical-align: top;\n",
       "    }\n",
       "\n",
       "    .dataframe thead th {\n",
       "        text-align: right;\n",
       "    }\n",
       "</style>\n",
       "<table border=\"1\" class=\"dataframe\">\n",
       "  <thead>\n",
       "    <tr style=\"text-align: right;\">\n",
       "      <th></th>\n",
       "      <th>sqty</th>\n",
       "      <th>weekday</th>\n",
       "      <th>week</th>\n",
       "      <th>hour</th>\n",
       "      <th>title_len</th>\n",
       "      <th>state_city</th>\n",
       "      <th>svd_title_tfidf_0</th>\n",
       "      <th>svd_title_tfidf_1</th>\n",
       "      <th>svd_title_tfidf_2</th>\n",
       "      <th>svd_title_tfidf_3</th>\n",
       "      <th>svd_title_tfidf_4</th>\n",
       "      <th>svd_title_tfidf_5</th>\n",
       "      <th>svd_title_tfidf_6</th>\n",
       "      <th>svd_title_tfidf_7</th>\n",
       "      <th>svd_title_tfidf_8</th>\n",
       "      <th>svd_title_tfidf_9</th>\n",
       "      <th>y_test</th>\n",
       "      <th>preds</th>\n",
       "    </tr>\n",
       "  </thead>\n",
       "  <tbody>\n",
       "    <tr>\n",
       "      <th>468969</th>\n",
       "      <td>1</td>\n",
       "      <td>4</td>\n",
       "      <td>45</td>\n",
       "      <td>10</td>\n",
       "      <td>8</td>\n",
       "      <td>1258</td>\n",
       "      <td>0.000073</td>\n",
       "      <td>-0.000026</td>\n",
       "      <td>0.000022</td>\n",
       "      <td>0.000023</td>\n",
       "      <td>-0.000048</td>\n",
       "      <td>-0.000010</td>\n",
       "      <td>0.000452</td>\n",
       "      <td>0.000125</td>\n",
       "      <td>0.000138</td>\n",
       "      <td>0.001132</td>\n",
       "      <td>334.999908</td>\n",
       "      <td>339.996765</td>\n",
       "    </tr>\n",
       "    <tr>\n",
       "      <th>28715</th>\n",
       "      <td>0</td>\n",
       "      <td>6</td>\n",
       "      <td>14</td>\n",
       "      <td>3</td>\n",
       "      <td>6</td>\n",
       "      <td>1720</td>\n",
       "      <td>0.004843</td>\n",
       "      <td>-0.001155</td>\n",
       "      <td>0.011469</td>\n",
       "      <td>-0.003371</td>\n",
       "      <td>0.013947</td>\n",
       "      <td>-0.006617</td>\n",
       "      <td>0.040843</td>\n",
       "      <td>-0.005716</td>\n",
       "      <td>0.012165</td>\n",
       "      <td>0.075770</td>\n",
       "      <td>2805.000244</td>\n",
       "      <td>2600.343994</td>\n",
       "    </tr>\n",
       "    <tr>\n",
       "      <th>544345</th>\n",
       "      <td>1</td>\n",
       "      <td>3</td>\n",
       "      <td>50</td>\n",
       "      <td>18</td>\n",
       "      <td>9</td>\n",
       "      <td>1290</td>\n",
       "      <td>0.027844</td>\n",
       "      <td>-0.011430</td>\n",
       "      <td>-0.000379</td>\n",
       "      <td>-0.000797</td>\n",
       "      <td>-0.019390</td>\n",
       "      <td>0.000282</td>\n",
       "      <td>0.018368</td>\n",
       "      <td>0.012092</td>\n",
       "      <td>0.024066</td>\n",
       "      <td>-0.011043</td>\n",
       "      <td>2499.000244</td>\n",
       "      <td>2116.227051</td>\n",
       "    </tr>\n",
       "    <tr>\n",
       "      <th>83520</th>\n",
       "      <td>1</td>\n",
       "      <td>1</td>\n",
       "      <td>19</td>\n",
       "      <td>7</td>\n",
       "      <td>8</td>\n",
       "      <td>1589</td>\n",
       "      <td>0.151660</td>\n",
       "      <td>-0.135138</td>\n",
       "      <td>-0.010820</td>\n",
       "      <td>-0.015625</td>\n",
       "      <td>0.466398</td>\n",
       "      <td>-0.289221</td>\n",
       "      <td>0.054791</td>\n",
       "      <td>-0.195767</td>\n",
       "      <td>0.207799</td>\n",
       "      <td>-0.033576</td>\n",
       "      <td>2189.999512</td>\n",
       "      <td>2179.371582</td>\n",
       "    </tr>\n",
       "    <tr>\n",
       "      <th>589387</th>\n",
       "      <td>1</td>\n",
       "      <td>3</td>\n",
       "      <td>1</td>\n",
       "      <td>11</td>\n",
       "      <td>9</td>\n",
       "      <td>1385</td>\n",
       "      <td>0.001737</td>\n",
       "      <td>0.000543</td>\n",
       "      <td>0.000579</td>\n",
       "      <td>0.000391</td>\n",
       "      <td>-0.000611</td>\n",
       "      <td>-0.001549</td>\n",
       "      <td>0.013553</td>\n",
       "      <td>0.001780</td>\n",
       "      <td>0.005564</td>\n",
       "      <td>0.023764</td>\n",
       "      <td>4999.001953</td>\n",
       "      <td>1949.519775</td>\n",
       "    </tr>\n",
       "  </tbody>\n",
       "</table>\n",
       "</div>"
      ],
      "text/plain": [
       "        sqty  weekday  week  hour  title_len  state_city  svd_title_tfidf_0  \\\n",
       "468969     1        4    45    10          8        1258           0.000073   \n",
       "28715      0        6    14     3          6        1720           0.004843   \n",
       "544345     1        3    50    18          9        1290           0.027844   \n",
       "83520      1        1    19     7          8        1589           0.151660   \n",
       "589387     1        3     1    11          9        1385           0.001737   \n",
       "\n",
       "        svd_title_tfidf_1  svd_title_tfidf_2  svd_title_tfidf_3  \\\n",
       "468969          -0.000026           0.000022           0.000023   \n",
       "28715           -0.001155           0.011469          -0.003371   \n",
       "544345          -0.011430          -0.000379          -0.000797   \n",
       "83520           -0.135138          -0.010820          -0.015625   \n",
       "589387           0.000543           0.000579           0.000391   \n",
       "\n",
       "        svd_title_tfidf_4  svd_title_tfidf_5  svd_title_tfidf_6  \\\n",
       "468969          -0.000048          -0.000010           0.000452   \n",
       "28715            0.013947          -0.006617           0.040843   \n",
       "544345          -0.019390           0.000282           0.018368   \n",
       "83520            0.466398          -0.289221           0.054791   \n",
       "589387          -0.000611          -0.001549           0.013553   \n",
       "\n",
       "        svd_title_tfidf_7  svd_title_tfidf_8  svd_title_tfidf_9       y_test  \\\n",
       "468969           0.000125           0.000138           0.001132   334.999908   \n",
       "28715           -0.005716           0.012165           0.075770  2805.000244   \n",
       "544345           0.012092           0.024066          -0.011043  2499.000244   \n",
       "83520           -0.195767           0.207799          -0.033576  2189.999512   \n",
       "589387           0.001780           0.005564           0.023764  4999.001953   \n",
       "\n",
       "              preds  \n",
       "468969   339.996765  \n",
       "28715   2600.343994  \n",
       "544345  2116.227051  \n",
       "83520   2179.371582  \n",
       "589387  1949.519775  "
      ]
     },
     "metadata": {},
     "output_type": "display_data"
    }
   ],
   "source": [
    "# Add results to table and display\n",
    "results = X_test.copy()\n",
    "results['y_test'] = y_test\n",
    "results['preds'] = preds\n",
    "\n",
    "display(results.head())"
   ]
  },
  {
   "cell_type": "code",
   "execution_count": 21,
   "metadata": {},
   "outputs": [
    {
     "name": "stdout",
     "output_type": "stream",
     "text": [
      "Benchmark II - Xgboost model\n",
      "Test MSLE: 0.244\n"
     ]
    }
   ],
   "source": [
    "# Test score: Benchmark II - Xgboost model\n",
    "test_score = mean_squared_log_error(y_test, preds)\n",
    "print('Benchmark II - Xgboost model')\n",
    "print('Test MSLE: %.3f' % test_score)"
   ]
  },
  {
   "cell_type": "markdown",
   "metadata": {},
   "source": [
    "---\n",
    "<a id='step5'></a>\n",
    "## Step 5: Results"
   ]
  },
  {
   "cell_type": "markdown",
   "metadata": {},
   "source": [
    "The test score for the selected benchmarks were:\n",
    "\n",
    "* Benchmark I - **Persistence Model** = 2.220\n",
    "* Benchmark II - **Xgboost model** = 0.244\n",
    "\n",
    "The score used for the comparison was **Mean squared logarithmic error**. This function computes a risk metric corresponding to the expected value of the squared logarithmic (quadratic) error or loss and returns a non-negative floating point value (**the best value is 0.0**)"
   ]
  },
  {
   "cell_type": "code",
   "execution_count": null,
   "metadata": {},
   "outputs": [],
   "source": []
  }
 ],
 "metadata": {
  "kernelspec": {
   "display_name": "Python 2",
   "language": "python",
   "name": "python2"
  },
  "language_info": {
   "codemirror_mode": {
    "name": "ipython",
    "version": 2
   },
   "file_extension": ".py",
   "mimetype": "text/x-python",
   "name": "python",
   "nbconvert_exporter": "python",
   "pygments_lexer": "ipython2",
   "version": "2.7.15"
  }
 },
 "nbformat": 4,
 "nbformat_minor": 2
}
